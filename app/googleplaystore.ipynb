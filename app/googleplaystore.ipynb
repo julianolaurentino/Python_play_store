{
 "cells": [
  {
   "cell_type": "code",
   "execution_count": 9,
   "metadata": {},
   "outputs": [],
   "source": [
    "import pandas as pd\n",
    "import numpy as np"
   ]
  },
  {
   "cell_type": "code",
   "execution_count": 10,
   "metadata": {},
   "outputs": [],
   "source": [
    "# Definir o caminho do arquivo de entrada e saída\n",
    "input_path = r\"D:\\Users\\Inked\\Documents\\JULIANO\\workspace\\Datasets\\googleplaystore\\googleplaystore.csv\"\n",
    "output_path = r\"D:\\Users\\Inked\\Documents\\JULIANO\\workspace\\Datasets\\googleplaystore\\output\\googleplaystore_clean.xlsx\""
   ]
  },
  {
   "cell_type": "code",
   "execution_count": 11,
   "metadata": {},
   "outputs": [],
   "source": [
    "# Carregar o dataset\n",
    "df_apps = pd.read_csv(input_path)\n",
    "\n",
    "# Criar uma cópia do dataframe original\n",
    "df_apps_clean = df_apps.copy()\n"
   ]
  },
  {
   "cell_type": "code",
   "execution_count": 12,
   "metadata": {},
   "outputs": [],
   "source": [
    "# Converter 'Reviews' para número inteiro\n",
    "df_apps_clean[\"Reviews\"] = pd.to_numeric(df_apps_clean[\"Reviews\"], errors=\"coerce\")\n",
    "\n",
    "# Tratar 'Installs': remover \"+\" e \",\", substituir valores não numéricos por NaN e converter para número\n",
    "df_apps_clean[\"Installs\"] = df_apps_clean[\"Installs\"].replace([\"Free\", \"Everyone\"], np.nan)\n",
    "df_apps_clean[\"Installs\"] = df_apps_clean[\"Installs\"].astype(str).str.replace(\"[+,]\", \"\", regex=True)\n",
    "df_apps_clean[\"Installs\"] = pd.to_numeric(df_apps_clean[\"Installs\"], errors=\"coerce\")\n",
    "\n",
    "# Tratar 'Price': remover \"$\", substituir valores não numéricos por NaN e converter para número\n",
    "df_apps_clean[\"Price\"] = df_apps_clean[\"Price\"].str.replace(\"$\", \"\", regex=False)\n",
    "df_apps_clean[\"Price\"] = pd.to_numeric(df_apps_clean[\"Price\"], errors=\"coerce\")"
   ]
  },
  {
   "cell_type": "code",
   "execution_count": 13,
   "metadata": {},
   "outputs": [],
   "source": [
    "# Função para converter 'Size' para KB\n",
    "def convert_size(size):\n",
    "    if isinstance(size, str):\n",
    "        if \"M\" in size:\n",
    "            return float(size.replace(\"M\", \"\")) * 1024  # Convertendo MB para KB\n",
    "        elif \"k\" in size:\n",
    "            return float(size.replace(\"k\", \"\"))  # Já está em KB\n",
    "    return np.nan  # Valores como 'Varies with device' serão convertidos para NaN"
   ]
  },
  {
   "cell_type": "code",
   "execution_count": 15,
   "metadata": {},
   "outputs": [],
   "source": [
    "# Aplicar a conversão na coluna 'Size'\n",
    "df_apps_clean[\"Size\"] = df_apps_clean[\"Size\"].apply(convert_size)\n",
    "\n",
    "# Remover linhas duplicadas\n",
    "df_apps_clean.drop_duplicates(inplace=True)\n",
    "\n",
    "# Tratar valores ausentes removendo linhas onde 'App' está vazio\n",
    "df_apps_clean.dropna(subset=[\"App\"], inplace=True)\n",
    "\n",
    "# Salvar o dataset tratado\n",
    "df_apps_clean.to_excel(output_path, index=False)"
   ]
  },
  {
   "cell_type": "code",
   "execution_count": 16,
   "metadata": {},
   "outputs": [
    {
     "name": "stdout",
     "output_type": "stream",
     "text": [
      "Arquivo tratado salvo em: D:\\Users\\Inked\\Documents\\JULIANO\\workspace\\Datasets\\googleplaystore\\output\n"
     ]
    }
   ],
   "source": [
    "\n",
    "print(\"Arquivo tratado salvo em:\", r\"D:\\Users\\Inked\\Documents\\JULIANO\\workspace\\Datasets\\googleplaystore\\output\")"
   ]
  }
 ],
 "metadata": {
  "kernelspec": {
   "display_name": "Python 3",
   "language": "python",
   "name": "python3"
  },
  "language_info": {
   "codemirror_mode": {
    "name": "ipython",
    "version": 3
   },
   "file_extension": ".py",
   "mimetype": "text/x-python",
   "name": "python",
   "nbconvert_exporter": "python",
   "pygments_lexer": "ipython3",
   "version": "3.13.2"
  }
 },
 "nbformat": 4,
 "nbformat_minor": 2
}
