{
 "cells": [
  {
   "cell_type": "code",
   "execution_count": 1,
   "metadata": {},
   "outputs": [],
   "source": [
    "import pandas as pd\n",
    "import numpy as np"
   ]
  },
  {
   "cell_type": "code",
   "execution_count": 2,
   "metadata": {},
   "outputs": [],
   "source": [
    "# Definir o caminho do arquivo de entrada e saída\n",
    "input_path = r\"D:\\Users\\Inked\\Documents\\JULIANO\\workspace\\Datasets\\googleplaystore\\googleplaystore_user_reviews.csv\"\n",
    "output_path = r\"D:\\Users\\Inked\\Documents\\JULIANO\\workspace\\Datasets\\googleplaystore\\output\\googleplaystore_user_reviews_clean.csv\"\n"
   ]
  },
  {
   "cell_type": "code",
   "execution_count": 3,
   "metadata": {},
   "outputs": [],
   "source": [
    "# Carregar o dataset\n",
    "df_reviews = pd.read_csv(input_path)\n",
    "\n",
    "# Criar uma cópia do dataframe original\n",
    "df_reviews_clean = df_reviews.copy()"
   ]
  },
  {
   "cell_type": "code",
   "execution_count": null,
   "metadata": {},
   "outputs": [
    {
     "name": "stdout",
     "output_type": "stream",
     "text": [
      "Arquivo tratado salvo em: D:\\Users\\Inked\\Documents\\JULIANO\\workspace\\Datasets\\googleplaystore\\output\n"
     ]
    },
    {
     "data": {
      "text/plain": [
       "<function print(*args, sep=' ', end='\\n', file=None, flush=False)>"
      ]
     },
     "metadata": {},
     "output_type": "display_data"
    }
   ],
   "source": [
    "# Converter 'Sentiment_Polarity' e 'Sentiment_Subjectivity' para numérico\n",
    "df_reviews_clean[\"Sentiment_Polarity\"] = pd.to_numeric(df_reviews_clean[\"Sentiment_Polarity\"], errors=\"coerce\")\n",
    "df_reviews_clean[\"Sentiment_Subjectivity\"] = pd.to_numeric(df_reviews_clean[\"Sentiment_Subjectivity\"], errors=\"coerce\")\n",
    "\n",
    "# Tratar valores ausentes removendo linhas onde 'App' ou 'Translated_Review' estão vazios\n",
    "df_reviews_clean.dropna(subset=[\"App\", \"Translated_Review\"], inplace=True)\n",
    "\n",
    "# Remover linhas duplicadas\n",
    "df_reviews_clean.drop_duplicates(inplace=True)\n",
    "\n",
    "# Salvar o dataset tratado\n",
    "df_reviews_clean.to_csv(output_path, index=False)\n",
    "\n",
    "print(\"Arquivo tratado salvo em:\", r\"D:\\Users\\Inked\\Documents\\JULIANO\\workspace\\Datasets\\googleplaystore\\output\")"
   ]
  }
 ],
 "metadata": {
  "kernelspec": {
   "display_name": "Python 3",
   "language": "python",
   "name": "python3"
  },
  "language_info": {
   "codemirror_mode": {
    "name": "ipython",
    "version": 3
   },
   "file_extension": ".py",
   "mimetype": "text/x-python",
   "name": "python",
   "nbconvert_exporter": "python",
   "pygments_lexer": "ipython3",
   "version": "3.13.2"
  }
 },
 "nbformat": 4,
 "nbformat_minor": 2
}
