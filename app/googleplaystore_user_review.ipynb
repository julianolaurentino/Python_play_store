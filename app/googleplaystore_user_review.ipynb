{
 "cells": [
  {
   "cell_type": "code",
   "execution_count": 22,
   "metadata": {},
   "outputs": [],
   "source": [
    "import pandas as pd\n",
    "import numpy as np"
   ]
  },
  {
   "cell_type": "code",
   "execution_count": 23,
   "metadata": {},
   "outputs": [],
   "source": [
    "# Definir o caminho do arquivo de entrada e saída\n",
    "input_path = r\"D:\\Users\\Inked\\Documents\\JULIANO\\workspace\\Datasets\\googleplaystore\\googleplaystore_user_reviews.csv\"\n",
    "output_path = r\"D:\\Users\\Inked\\Documents\\JULIANO\\workspace\\Datasets\\googleplaystore\\output\\googleplaystore_user_reviews_clean.xlsx\"\n"
   ]
  },
  {
   "cell_type": "code",
   "execution_count": 24,
   "metadata": {},
   "outputs": [],
   "source": [
    "# Carregar o dataset\n",
    "df_reviews = pd.read_csv(input_path)\n",
    "\n",
    "# Criar uma cópia do dataframe original\n",
    "df_reviews_clean = df_reviews.copy()"
   ]
  },
  {
   "cell_type": "code",
   "execution_count": 27,
   "metadata": {},
   "outputs": [
    {
     "name": "stdout",
     "output_type": "stream",
     "text": [
      "Arquivo tratado salvo em: D:\\Users\\Inked\\Documents\\JULIANO\\workspace\\Datasets\\googleplaystore\\output\n"
     ]
    }
   ],
   "source": [
    "# Converter 'Sentiment_Polarity' e 'Sentiment_Subjectivity' para numérico\n",
    "df_reviews_clean[\"Sentiment_Polarity\"] = pd.to_numeric(df_reviews_clean[\"Sentiment_Polarity\"], errors=\"coerce\")\n",
    "df_reviews_clean[\"Sentiment_Subjectivity\"] = pd.to_numeric(df_reviews_clean[\"Sentiment_Subjectivity\"], errors=\"coerce\")\n",
    "\n",
    "# Tratar valores ausentes removendo linhas onde 'App' ou 'Translated_Review' estão vazios\n",
    "df_reviews_clean.dropna(subset=[\"App\", \"Translated_Review\"], inplace=True)\n",
    "\n",
    "# Remover linhas duplicadas\n",
    "df_reviews_clean.drop_duplicates(inplace=True)\n",
    "\n",
    "# Salvar o dataset tratado\n",
    "df_reviews_clean.to_excel(output_path, index=False)\n",
    "\n",
    "print(\"Arquivo tratado salvo em:\", r\"D:\\Users\\Inked\\Documents\\JULIANO\\workspace\\Datasets\\googleplaystore\\output\")"
   ]
  },
  {
   "cell_type": "code",
   "execution_count": null,
   "metadata": {},
   "outputs": [
    {
     "data": {
      "application/vnd.microsoft.datawrangler.viewer.v0+json": {
       "columns": [
        {
         "name": "index",
         "rawType": "int64",
         "type": "integer"
        },
        {
         "name": "App",
         "rawType": "object",
         "type": "string"
        },
        {
         "name": "Translated_Review",
         "rawType": "object",
         "type": "string"
        },
        {
         "name": "Sentiment",
         "rawType": "object",
         "type": "string"
        },
        {
         "name": "Sentiment_Polarity",
         "rawType": "float64",
         "type": "float"
        },
        {
         "name": "Sentiment_Subjectivity",
         "rawType": "float64",
         "type": "float"
        }
       ],
       "conversionMethod": "pd.DataFrame",
       "ref": "95c29573-e5ab-4ac8-be94-c20538747152",
       "rows": [
        [
         "0",
         "10 Best Foods for You",
         "I like eat delicious food. That's I'm cooking food myself, case \"10 Best Foods\" helps lot, also \"Best Before (Shelf Life)\"",
         "Positive",
         "1.0",
         "0.5333333333333333"
        ],
        [
         "1",
         "10 Best Foods for You",
         "This help eating healthy exercise regular basis",
         "Positive",
         "0.25",
         "0.2884615384615384"
        ],
        [
         "3",
         "10 Best Foods for You",
         "Works great especially going grocery store",
         "Positive",
         "0.4",
         "0.875"
        ],
        [
         "4",
         "10 Best Foods for You",
         "Best idea us",
         "Positive",
         "1.0",
         "0.3"
        ],
        [
         "5",
         "10 Best Foods for You",
         "Best way",
         "Positive",
         "1.0",
         "0.3"
        ],
        [
         "6",
         "10 Best Foods for You",
         "Amazing",
         "Positive",
         "0.6000000000000001",
         "0.9"
        ],
        [
         "8",
         "10 Best Foods for You",
         "Looking forward app,",
         "Neutral",
         "0.0",
         "0.0"
        ],
        [
         "9",
         "10 Best Foods for You",
         "It helpful site ! It help foods get !",
         "Neutral",
         "0.0",
         "0.0"
        ],
        [
         "10",
         "10 Best Foods for You",
         "good you.",
         "Positive",
         "0.7",
         "0.6000000000000001"
        ],
        [
         "11",
         "10 Best Foods for You",
         "Useful information The amount spelling errors questions validity information shared. Once fixed, 5 stars given.",
         "Positive",
         "0.2",
         "0.1"
        ],
        [
         "12",
         "10 Best Foods for You",
         "Thank you! Great app!! Add arthritis, eyes, immunity, kidney/liver detox foods please. :)",
         "Positive",
         "0.75",
         "0.875"
        ],
        [
         "13",
         "10 Best Foods for You",
         "Greatest ever Completely awesome maintain health.... This must ppl there... Love it!!!",
         "Positive",
         "0.9921875",
         "0.8666666666666667"
        ],
        [
         "14",
         "10 Best Foods for You",
         "Good health...... Good health first priority.......",
         "Positive",
         "0.5499999999999999",
         "0.5111111111111112"
        ],
        [
         "16",
         "10 Best Foods for You",
         "Health It's important world either life . think? :)",
         "Positive",
         "0.45",
         "1.0"
        ],
        [
         "17",
         "10 Best Foods for You",
         "Mrs sunita bhati I thankful developers,to make kind app, really good healthy food body",
         "Positive",
         "0.6",
         "0.6666666666666666"
        ],
        [
         "18",
         "10 Best Foods for You",
         "Very Useful in diabetes age 30. I need control sugar. thanks",
         "Positive",
         "0.295",
         "0.1"
        ],
        [
         "19",
         "10 Best Foods for You",
         "One greatest apps.",
         "Positive",
         "1.0",
         "1.0"
        ],
        [
         "20",
         "10 Best Foods for You",
         "good nice",
         "Positive",
         "0.6499999999999999",
         "0.8"
        ],
        [
         "21",
         "10 Best Foods for You",
         "Healthy Really helped",
         "Positive",
         "0.35",
         "0.35"
        ],
        [
         "22",
         "10 Best Foods for You",
         "God health",
         "Neutral",
         "0.0",
         "0.0"
        ],
        [
         "23",
         "10 Best Foods for You",
         "HEALTH SHOULD ALWAYS BE TOP PRIORITY. !!. ON MYSG5.",
         "Positive",
         "0.78125",
         "0.5"
        ],
        [
         "24",
         "10 Best Foods for You",
         "An excellent A useful",
         "Positive",
         "0.65",
         "0.5"
        ],
        [
         "25",
         "10 Best Foods for You",
         "I found lot wealth form health...",
         "Neutral",
         "0.0",
         "0.0"
        ],
        [
         "26",
         "10 Best Foods for You",
         "Because I found important.",
         "Positive",
         "0.4",
         "1.0"
        ],
        [
         "27",
         "10 Best Foods for You",
         "Healthy Eating",
         "Positive",
         "0.5",
         "0.5"
        ],
        [
         "28",
         "10 Best Foods for You",
         "Very good Simply good",
         "Positive",
         "0.8049999999999999",
         "0.6900000000000002"
        ],
        [
         "29",
         "10 Best Foods for You",
         "On test....",
         "Neutral",
         "0.0",
         "0.0"
        ],
        [
         "30",
         "10 Best Foods for You",
         "Good.!!",
         "Positive",
         "1.0",
         "0.6000000000000001"
        ],
        [
         "31",
         "10 Best Foods for You",
         "Thanks advice. Downloaded Adobe reader still can't get recipe book?..",
         "Positive",
         "0.2",
         "0.2"
        ],
        [
         "32",
         "10 Best Foods for You",
         "No recipe book Unable recipe book.",
         "Negative",
         "-0.5",
         "0.5"
        ],
        [
         "33",
         "10 Best Foods for You",
         "Absolutely Fabulous Phenomenal",
         "Positive",
         "0.45",
         "0.75"
        ],
        [
         "34",
         "10 Best Foods for You",
         "Great Love food",
         "Positive",
         "0.65",
         "0.675"
        ],
        [
         "35",
         "10 Best Foods for You",
         "Excellent It really works",
         "Positive",
         "0.6",
         "0.6"
        ],
        [
         "36",
         "10 Best Foods for You",
         "Best",
         "Positive",
         "1.0",
         "0.3"
        ],
        [
         "37",
         "10 Best Foods for You",
         "WEALTH OF INFORMATION Very informative ... easy understand. (The ads middle page interupted read). Update: My \"ad comment\" NOT objection ads, literally position ads. Smack dab MIDDLE. I new spartphones & apps. Didnt know NOT Click eveything I saw... But, ... Full Review",
         "Positive",
         "0.1866161616161616",
         "0.3563131313131313"
        ],
        [
         "38",
         "10 Best Foods for You",
         "Not description good",
         "Positive",
         "0.7",
         "0.6000000000000001"
        ],
        [
         "39",
         "10 Best Foods for You",
         "Great app. Love",
         "Positive",
         "0.65",
         "0.675"
        ],
        [
         "40",
         "10 Best Foods for You",
         "Good",
         "Positive",
         "0.7",
         "0.6000000000000001"
        ],
        [
         "41",
         "10 Best Foods for You",
         "Loved Very helpful",
         "Positive",
         "0.4499999999999999",
         "0.55"
        ],
        [
         "42",
         "10 Best Foods for You",
         "Good healthy foods.",
         "Positive",
         "0.6",
         "0.55"
        ],
        [
         "43",
         "10 Best Foods for You",
         "Waste time It needs internet time n ask calls information",
         "Negative",
         "-0.2",
         "0.0"
        ],
        [
         "44",
         "10 Best Foods for You",
         "Best thing I lost ten lbs. two months help tips",
         "Positive",
         "0.5",
         "0.15"
        ],
        [
         "45",
         "10 Best Foods for You",
         "Ten best food promote good health Good health essential long healthy lifestyle make habit eat foods promote good health. Eat fruits veggies every day.",
         "Positive",
         "0.44375",
         "0.4125"
        ],
        [
         "46",
         "10 Best Foods for You",
         "Healthy Food Really good information eat healthy",
         "Positive",
         "0.5666666666666667",
         "0.5333333333333333"
        ],
        [
         "47",
         "10 Best Foods for You",
         "My mom dad important thing This good share",
         "Positive",
         "0.55",
         "0.8"
        ],
        [
         "48",
         "10 Best Foods for You",
         "A big thanks ds I got bst gd health",
         "Positive",
         "0.1",
         "0.15"
        ],
        [
         "49",
         "10 Best Foods for You",
         "Lovely Best everyone needs",
         "Positive",
         "0.75",
         "0.525"
        ],
        [
         "50",
         "10 Best Foods for You",
         "Love It I lost 6Pounds far 215 209",
         "Positive",
         "0.3",
         "0.8"
        ],
        [
         "51",
         "10 Best Foods for You",
         "I like",
         "Neutral",
         "0.0",
         "0.0"
        ],
        [
         "52",
         "10 Best Foods for You",
         "Thanks helpful app.",
         "Positive",
         "0.2",
         "0.2"
        ]
       ],
       "shape": {
        "columns": 5,
        "rows": 29692
       }
      },
      "text/html": [
       "<div>\n",
       "<style scoped>\n",
       "    .dataframe tbody tr th:only-of-type {\n",
       "        vertical-align: middle;\n",
       "    }\n",
       "\n",
       "    .dataframe tbody tr th {\n",
       "        vertical-align: top;\n",
       "    }\n",
       "\n",
       "    .dataframe thead th {\n",
       "        text-align: right;\n",
       "    }\n",
       "</style>\n",
       "<table border=\"1\" class=\"dataframe\">\n",
       "  <thead>\n",
       "    <tr style=\"text-align: right;\">\n",
       "      <th></th>\n",
       "      <th>App</th>\n",
       "      <th>Translated_Review</th>\n",
       "      <th>Sentiment</th>\n",
       "      <th>Sentiment_Polarity</th>\n",
       "      <th>Sentiment_Subjectivity</th>\n",
       "    </tr>\n",
       "  </thead>\n",
       "  <tbody>\n",
       "    <tr>\n",
       "      <th>0</th>\n",
       "      <td>10 Best Foods for You</td>\n",
       "      <td>I like eat delicious food. That's I'm cooking ...</td>\n",
       "      <td>Positive</td>\n",
       "      <td>1.000000</td>\n",
       "      <td>0.533333</td>\n",
       "    </tr>\n",
       "    <tr>\n",
       "      <th>1</th>\n",
       "      <td>10 Best Foods for You</td>\n",
       "      <td>This help eating healthy exercise regular basis</td>\n",
       "      <td>Positive</td>\n",
       "      <td>0.250000</td>\n",
       "      <td>0.288462</td>\n",
       "    </tr>\n",
       "    <tr>\n",
       "      <th>3</th>\n",
       "      <td>10 Best Foods for You</td>\n",
       "      <td>Works great especially going grocery store</td>\n",
       "      <td>Positive</td>\n",
       "      <td>0.400000</td>\n",
       "      <td>0.875000</td>\n",
       "    </tr>\n",
       "    <tr>\n",
       "      <th>4</th>\n",
       "      <td>10 Best Foods for You</td>\n",
       "      <td>Best idea us</td>\n",
       "      <td>Positive</td>\n",
       "      <td>1.000000</td>\n",
       "      <td>0.300000</td>\n",
       "    </tr>\n",
       "    <tr>\n",
       "      <th>5</th>\n",
       "      <td>10 Best Foods for You</td>\n",
       "      <td>Best way</td>\n",
       "      <td>Positive</td>\n",
       "      <td>1.000000</td>\n",
       "      <td>0.300000</td>\n",
       "    </tr>\n",
       "    <tr>\n",
       "      <th>...</th>\n",
       "      <td>...</td>\n",
       "      <td>...</td>\n",
       "      <td>...</td>\n",
       "      <td>...</td>\n",
       "      <td>...</td>\n",
       "    </tr>\n",
       "    <tr>\n",
       "      <th>64222</th>\n",
       "      <td>Housing-Real Estate &amp; Property</td>\n",
       "      <td>Most ads older many agents ..not much owner po...</td>\n",
       "      <td>Positive</td>\n",
       "      <td>0.173333</td>\n",
       "      <td>0.486667</td>\n",
       "    </tr>\n",
       "    <tr>\n",
       "      <th>64223</th>\n",
       "      <td>Housing-Real Estate &amp; Property</td>\n",
       "      <td>If photos posted portal load, fit purpose. I'm...</td>\n",
       "      <td>Positive</td>\n",
       "      <td>0.225000</td>\n",
       "      <td>0.447222</td>\n",
       "    </tr>\n",
       "    <tr>\n",
       "      <th>64226</th>\n",
       "      <td>Housing-Real Estate &amp; Property</td>\n",
       "      <td>Dumb app, I wanted post property rent give opt...</td>\n",
       "      <td>Negative</td>\n",
       "      <td>-0.287500</td>\n",
       "      <td>0.250000</td>\n",
       "    </tr>\n",
       "    <tr>\n",
       "      <th>64227</th>\n",
       "      <td>Housing-Real Estate &amp; Property</td>\n",
       "      <td>I property business got link SMS happy perform...</td>\n",
       "      <td>Positive</td>\n",
       "      <td>0.800000</td>\n",
       "      <td>1.000000</td>\n",
       "    </tr>\n",
       "    <tr>\n",
       "      <th>64230</th>\n",
       "      <td>Housing-Real Estate &amp; Property</td>\n",
       "      <td>Useless app, I searched flats kondapur, Hydera...</td>\n",
       "      <td>Negative</td>\n",
       "      <td>-0.316667</td>\n",
       "      <td>0.400000</td>\n",
       "    </tr>\n",
       "  </tbody>\n",
       "</table>\n",
       "<p>29692 rows × 5 columns</p>\n",
       "</div>"
      ],
      "text/plain": [
       "                                  App  \\\n",
       "0               10 Best Foods for You   \n",
       "1               10 Best Foods for You   \n",
       "3               10 Best Foods for You   \n",
       "4               10 Best Foods for You   \n",
       "5               10 Best Foods for You   \n",
       "...                               ...   \n",
       "64222  Housing-Real Estate & Property   \n",
       "64223  Housing-Real Estate & Property   \n",
       "64226  Housing-Real Estate & Property   \n",
       "64227  Housing-Real Estate & Property   \n",
       "64230  Housing-Real Estate & Property   \n",
       "\n",
       "                                       Translated_Review Sentiment  \\\n",
       "0      I like eat delicious food. That's I'm cooking ...  Positive   \n",
       "1        This help eating healthy exercise regular basis  Positive   \n",
       "3             Works great especially going grocery store  Positive   \n",
       "4                                           Best idea us  Positive   \n",
       "5                                               Best way  Positive   \n",
       "...                                                  ...       ...   \n",
       "64222  Most ads older many agents ..not much owner po...  Positive   \n",
       "64223  If photos posted portal load, fit purpose. I'm...  Positive   \n",
       "64226  Dumb app, I wanted post property rent give opt...  Negative   \n",
       "64227  I property business got link SMS happy perform...  Positive   \n",
       "64230  Useless app, I searched flats kondapur, Hydera...  Negative   \n",
       "\n",
       "       Sentiment_Polarity  Sentiment_Subjectivity  \n",
       "0                1.000000                0.533333  \n",
       "1                0.250000                0.288462  \n",
       "3                0.400000                0.875000  \n",
       "4                1.000000                0.300000  \n",
       "5                1.000000                0.300000  \n",
       "...                   ...                     ...  \n",
       "64222            0.173333                0.486667  \n",
       "64223            0.225000                0.447222  \n",
       "64226           -0.287500                0.250000  \n",
       "64227            0.800000                1.000000  \n",
       "64230           -0.316667                0.400000  \n",
       "\n",
       "[29692 rows x 5 columns]"
      ]
     },
     "metadata": {},
     "output_type": "display_data"
    }
   ],
   "source": [
    "display(df_reviews_clean)"
   ]
  }
 ],
 "metadata": {
  "kernelspec": {
   "display_name": "Python 3",
   "language": "python",
   "name": "python3"
  },
  "language_info": {
   "codemirror_mode": {
    "name": "ipython",
    "version": 3
   },
   "file_extension": ".py",
   "mimetype": "text/x-python",
   "name": "python",
   "nbconvert_exporter": "python",
   "pygments_lexer": "ipython3",
   "version": "3.13.2"
  }
 },
 "nbformat": 4,
 "nbformat_minor": 2
}
